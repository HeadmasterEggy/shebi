{
 "cells": [
  {
   "metadata": {
    "ExecuteTime": {
     "end_time": "2025-04-02T02:12:43.268680Z",
     "start_time": "2025-04-02T02:12:43.177267Z"
    }
   },
   "cell_type": "code",
   "source": [
    "import pandas as pd\n",
    "\n",
    "\n",
    "# 假设数据格式为每行：标签[空格]评论\n",
    "def read_data_from_txt(file_path):\n",
    "    data = []\n",
    "    with open(file_path, 'r', encoding='utf-8') as f:\n",
    "        for line in f.readlines():\n",
    "            parts = line.strip().split(' ', 1)  # 使用空格分割标签和评论\n",
    "            if len(parts) > 1:\n",
    "                label = int(parts[0])  # 标签转换为整数\n",
    "                review = parts[1]  # 评论部分\n",
    "                data.append([label, review])\n",
    "    df = pd.DataFrame(data, columns=[\"label\", \"review\"])\n",
    "    return df\n",
    "\n",
    "\n",
    "# 读取数据\n",
    "file = '../trained.txt'\n",
    "df = read_data_from_txt(file)\n",
    "\n",
    "# 输出前几行数据预览\n",
    "print(df.head())"
   ],
   "id": "28b093df136b5985",
   "outputs": [
    {
     "name": "stdout",
     "output_type": "stream",
     "text": [
      "   label                                             review\n",
      "0      1  做 父母 一定 要 有 刘墉 的 心态 不断 地 学习 不断 地 进步 不断 地 给 补充 ...\n",
      "1      1  作者 真有 英国人 严谨 的 风格 提出 观点 进行 论述 论证 对 物理学 了解 不深 能...\n",
      "2      1  作者 长篇大论 借用 详细 报告 数据处理 工作 和 计算结果 支持 其新 观点 荷兰 曾经...\n",
      "3      1  作者 在 战 之前 用 拥抱 令人 叫绝 日本 战败 就 有 有 美军 的 占领 没胡 官僚...\n",
      "4      1  作者 在 少年 时即 喜 阅读 能 看出 精读 无数 经典 有 一个 庞大 的 内心世界 的...\n"
     ]
    }
   ],
   "execution_count": 2
  },
  {
   "metadata": {
    "ExecuteTime": {
     "end_time": "2025-04-02T02:12:43.889491Z",
     "start_time": "2025-04-02T02:12:43.276880Z"
    }
   },
   "cell_type": "code",
   "source": [
    "from sklearn.model_selection import train_test_split\n",
    "\n",
    "# 将数据划分为训练集、验证集和测试集\n",
    "train_df, temp_df = train_test_split(df, test_size=0.2, random_state=42)  # 80% 训练集，20% 临时集\n",
    "val_df, test_df = train_test_split(temp_df, test_size=0.5, random_state=42)  # 50% 验证集，50% 测试集\n",
    "\n",
    "# 输出每个数据集的大小\n",
    "print(f\"训练集大小: {len(train_df)}\")\n",
    "print(f\"验证集大小: {len(val_df)}\")\n",
    "print(f\"测试集大小: {len(test_df)}\")"
   ],
   "id": "ec8f834de568b660",
   "outputs": [
    {
     "name": "stdout",
     "output_type": "stream",
     "text": [
      "训练集大小: 50674\n",
      "验证集大小: 6334\n",
      "测试集大小: 6335\n"
     ]
    }
   ],
   "execution_count": 3
  },
  {
   "metadata": {
    "ExecuteTime": {
     "end_time": "2025-04-02T02:12:44.794503Z",
     "start_time": "2025-04-02T02:12:43.900586Z"
    }
   },
   "cell_type": "code",
   "source": [
    "# 定义保存数据集的函数\n",
    "def save_to_txt(df, file_name):\n",
    "    with open(file_name, 'w', encoding='utf-8') as file:\n",
    "        for index, row in df.iterrows():\n",
    "            file.write(f\"{row['label']} {row['review']}\\n\")\n",
    "\n",
    "\n",
    "# 保存数据集\n",
    "save_to_txt(train_df, '../train.txt')\n",
    "save_to_txt(val_df, '../val.txt')\n",
    "save_to_txt(test_df, '../test.txt')"
   ],
   "id": "c0f86101caa4233b",
   "outputs": [],
   "execution_count": 4
  },
  {
   "metadata": {
    "ExecuteTime": {
     "end_time": "2025-04-02T02:12:44.808084Z",
     "start_time": "2025-04-02T02:12:44.806618Z"
    }
   },
   "cell_type": "code",
   "source": "",
   "id": "e18e4e7515e5f0aa",
   "outputs": [],
   "execution_count": null
  }
 ],
 "metadata": {
  "kernelspec": {
   "display_name": "Python 3",
   "language": "python",
   "name": "python3"
  },
  "language_info": {
   "codemirror_mode": {
    "name": "ipython",
    "version": 2
   },
   "file_extension": ".py",
   "mimetype": "text/x-python",
   "name": "python",
   "nbconvert_exporter": "python",
   "pygments_lexer": "ipython2",
   "version": "2.7.6"
  }
 },
 "nbformat": 4,
 "nbformat_minor": 5
}
