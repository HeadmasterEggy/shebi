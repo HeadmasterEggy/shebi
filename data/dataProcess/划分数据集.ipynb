{
 "cells": [
  {
   "cell_type": "code",
   "id": "initial_id",
   "metadata": {
    "collapsed": true,
    "ExecuteTime": {
     "end_time": "2025-03-27T09:33:45.951489Z",
     "start_time": "2025-03-27T09:33:45.888833Z"
    }
   },
   "source": [
    "import pandas as pd\n",
    "\n",
    "# 假设数据格式为每行：标签[空格]评论\n",
    "def read_data_from_txt(file_path):\n",
    "    data = []\n",
    "    with open(file_path, 'r', encoding='utf-8') as file:\n",
    "        for line in file.readlines():\n",
    "            parts = line.strip().split(' ', 1)  # 使用空格分割标签和评论\n",
    "            if len(parts) > 1:\n",
    "                label = int(parts[0])  # 标签转换为整数\n",
    "                review = parts[1]  # 评论部分\n",
    "                data.append([label, review])\n",
    "    df = pd.DataFrame(data, columns=[\"label\", \"review\"])\n",
    "    return df\n",
    "\n",
    "# 读取数据\n",
    "file_path = 'trained.txt'  # 替换为你实际的文件路径\n",
    "df = read_data_from_txt(file_path)\n",
    "\n",
    "# 输出前几行数据预览\n",
    "print(df.head())"
   ],
   "outputs": [
    {
     "name": "stdout",
     "output_type": "stream",
     "text": [
      "   label                                             review\n",
      "0      1  父母 刘墉 心态 学习 补充 新鲜血液 一颗 年轻 心 沟通 因素 读 刘墉 文章 总能 快...\n",
      "1      1  作者 真有 英国人 严谨 风格 提出 观点 论述 论证 物理学 不深 感受 真理 火花 整本...\n",
      "2      1  作者 长篇大论 借用 详细 报告 数据处理 工作 计算结果 支持 其新 观点 荷兰 县有 欧...\n",
      "3      1  作者 战 拥抱 令人 叫绝 战败 美军 占领 没胡 官僚主义 延续 战后 民发 反思 经济 ...\n",
      "4      1  作者 少年 时即 喜 阅读 精读 无数 经典 庞大 内心世界 作品 难能可贵 两点 一是 理...\n"
     ]
    }
   ],
   "execution_count": 2
  },
  {
   "metadata": {
    "ExecuteTime": {
     "end_time": "2025-03-27T09:33:53.149318Z",
     "start_time": "2025-03-27T09:33:52.351444Z"
    }
   },
   "cell_type": "code",
   "source": [
    "from sklearn.model_selection import train_test_split\n",
    "\n",
    "# 将数据划分为训练集、验证集和测试集\n",
    "train_df, temp_df = train_test_split(df, test_size=0.2, random_state=42)  # 80% 训练集，20% 临时集\n",
    "val_df, test_df = train_test_split(temp_df, test_size=0.5, random_state=42)  # 50% 验证集，50% 测试集\n",
    "\n",
    "# 输出每个数据集的大小\n",
    "print(f\"训练集大小: {len(train_df)}\")\n",
    "print(f\"验证集大小: {len(val_df)}\")\n",
    "print(f\"测试集大小: {len(test_df)}\")"
   ],
   "id": "35ca348560456642",
   "outputs": [
    {
     "name": "stdout",
     "output_type": "stream",
     "text": [
      "训练集大小: 50550\n",
      "验证集大小: 6319\n",
      "测试集大小: 6319\n"
     ]
    }
   ],
   "execution_count": 3
  },
  {
   "metadata": {
    "ExecuteTime": {
     "end_time": "2025-03-27T09:34:04.422991Z",
     "start_time": "2025-03-27T09:34:03.448749Z"
    }
   },
   "cell_type": "code",
   "source": [
    "# 定义保存数据集的函数\n",
    "def save_to_txt(df, file_name):\n",
    "    with open(file_name, 'w', encoding='utf-8') as file:\n",
    "        for index, row in df.iterrows():\n",
    "            file.write(f\"{row['label']} {row['review']}\\n\")\n",
    "\n",
    "# 保存数据集\n",
    "save_to_txt(train_df, 'train_data.txt')\n",
    "save_to_txt(val_df, 'val_data.txt')\n",
    "save_to_txt(test_df, 'test_data.txt')"
   ],
   "id": "b62bb60f5c9869b8",
   "outputs": [],
   "execution_count": 4
  },
  {
   "metadata": {},
   "cell_type": "code",
   "outputs": [],
   "execution_count": null,
   "source": "",
   "id": "e142b7c1e701ee84"
  }
 ],
 "metadata": {
  "kernelspec": {
   "display_name": "Python 3",
   "language": "python",
   "name": "python3"
  },
  "language_info": {
   "codemirror_mode": {
    "name": "ipython",
    "version": 2
   },
   "file_extension": ".py",
   "mimetype": "text/x-python",
   "name": "python",
   "nbconvert_exporter": "python",
   "pygments_lexer": "ipython2",
   "version": "2.7.6"
  }
 },
 "nbformat": 4,
 "nbformat_minor": 5
}
