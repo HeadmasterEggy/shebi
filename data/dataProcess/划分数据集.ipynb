{
 "cells": [
  {
   "metadata": {
    "ExecuteTime": {
     "end_time": "2025-04-01T03:45:08.423272Z",
     "start_time": "2025-04-01T03:45:08.052486Z"
    }
   },
   "cell_type": "code",
   "source": [
    "import pandas as pd\n",
    "\n",
    "\n",
    "# 假设数据格式为每行：标签[空格]评论\n",
    "def read_data_from_txt(file_path):\n",
    "    data = []\n",
    "    with open(file_path, 'r', encoding='utf-8') as f:\n",
    "        for line in f.readlines():\n",
    "            parts = line.strip().split(' ', 1)  # 使用空格分割标签和评论\n",
    "            if len(parts) > 1:\n",
    "                label = int(parts[0])  # 标签转换为整数\n",
    "                review = parts[1]  # 评论部分\n",
    "                data.append([label, review])\n",
    "    df = pd.DataFrame(data, columns=[\"label\", \"review\"])\n",
    "    return df\n",
    "\n",
    "\n",
    "# 读取数据\n",
    "file = 'trained.txt'\n",
    "df = read_data_from_txt(file)\n",
    "\n",
    "# 输出前几行数据预览\n",
    "print(df.head())"
   ],
   "id": "28b093df136b5985",
   "outputs": [
    {
     "name": "stdout",
     "output_type": "stream",
     "text": [
      "   label                                             review\n",
      "0      1  父母 刘墉 心态 学习 补充 新鲜血液 一颗 年轻 心 沟通 因素 读 刘墉 文章 总能 快...\n",
      "1      1  作者 真有 英国人 严谨 风格 提出 观点 论述 论证 物理学 不深 感受 真理 火花 整本...\n",
      "2      1  作者 长篇大论 借用 详细 报告 数据处理 工作 计算结果 支持 其新 观点 荷兰 县有 欧...\n",
      "3      1  作者 战 拥抱 令人 叫绝 战败 美军 占领 没胡 官僚主义 延续 战后 民发 反思 经济 ...\n",
      "4      1  作者 少年 时即 喜 阅读 精读 无数 经典 庞大 内心世界 作品 难能可贵 两点 一是 理...\n"
     ]
    }
   ],
   "execution_count": 1
  },
  {
   "metadata": {
    "ExecuteTime": {
     "end_time": "2025-04-01T03:45:09.138717Z",
     "start_time": "2025-04-01T03:45:08.598278Z"
    }
   },
   "cell_type": "code",
   "source": [
    "from sklearn.model_selection import train_test_split\n",
    "\n",
    "# 将数据划分为训练集、验证集和测试集\n",
    "train_df, temp_df = train_test_split(df, test_size=0.2, random_state=42)  # 80% 训练集，20% 临时集\n",
    "val_df, test_df = train_test_split(temp_df, test_size=0.5, random_state=42)  # 50% 验证集，50% 测试集\n",
    "\n",
    "# 输出每个数据集的大小\n",
    "print(f\"训练集大小: {len(train_df)}\")\n",
    "print(f\"验证集大小: {len(val_df)}\")\n",
    "print(f\"测试集大小: {len(test_df)}\")"
   ],
   "id": "ec8f834de568b660",
   "outputs": [
    {
     "name": "stdout",
     "output_type": "stream",
     "text": [
      "训练集大小: 50550\n",
      "验证集大小: 6319\n",
      "测试集大小: 6319\n"
     ]
    }
   ],
   "execution_count": 2
  },
  {
   "metadata": {
    "ExecuteTime": {
     "end_time": "2025-04-01T03:46:40.558559Z",
     "start_time": "2025-04-01T03:46:39.694884Z"
    }
   },
   "cell_type": "code",
   "source": [
    "# 定义保存数据集的函数\n",
    "def save_to_txt(df, file_name):\n",
    "    with open(file_name, 'w', encoding='utf-8') as file:\n",
    "        for index, row in df.iterrows():\n",
    "            file.write(f\"{row['label']} {row['review']}\\n\")\n",
    "\n",
    "\n",
    "# 保存数据集\n",
    "save_to_txt(train_df, '../train.txt')\n",
    "save_to_txt(val_df, '../val.txt')\n",
    "save_to_txt(test_df, '../test.txt')"
   ],
   "id": "c0f86101caa4233b",
   "outputs": [],
   "execution_count": 4
  },
  {
   "metadata": {
    "ExecuteTime": {
     "end_time": "2025-04-01T03:45:09.976674Z",
     "start_time": "2025-04-01T03:45:09.975330Z"
    }
   },
   "cell_type": "code",
   "source": "",
   "id": "e18e4e7515e5f0aa",
   "outputs": [],
   "execution_count": null
  }
 ],
 "metadata": {
  "kernelspec": {
   "display_name": "Python 3",
   "language": "python",
   "name": "python3"
  },
  "language_info": {
   "codemirror_mode": {
    "name": "ipython",
    "version": 2
   },
   "file_extension": ".py",
   "mimetype": "text/x-python",
   "name": "python",
   "nbconvert_exporter": "python",
   "pygments_lexer": "ipython2",
   "version": "2.7.6"
  }
 },
 "nbformat": 4,
 "nbformat_minor": 5
}
